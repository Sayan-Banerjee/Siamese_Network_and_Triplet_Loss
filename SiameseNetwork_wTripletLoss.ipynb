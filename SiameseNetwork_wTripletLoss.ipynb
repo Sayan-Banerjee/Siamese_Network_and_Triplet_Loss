{
 "cells": [
  {
   "cell_type": "code",
   "execution_count": 1,
   "metadata": {
    "colab": {
     "base_uri": "https://localhost:8080/",
     "height": 34
    },
    "colab_type": "code",
    "id": "kM-Xc_gwu_8m",
    "outputId": "4bcfc017-d812-41fb-cdb1-f97436c6dfc8"
   },
   "outputs": [
    {
     "name": "stdout",
     "output_type": "stream",
     "text": [
      "Drive already mounted at /content/drive/; to attempt to forcibly remount, call drive.mount(\"/content/drive/\", force_remount=True).\n"
     ]
    }
   ],
   "source": [
    "from google.colab import drive\n",
    "drive.mount('/content/drive/')"
   ]
  },
  {
   "cell_type": "code",
   "execution_count": 2,
   "metadata": {
    "colab": {},
    "colab_type": "code",
    "id": "-nUEra9Mu8Ef"
   },
   "outputs": [],
   "source": [
    "import os\n",
    "os.chdir(\"drive/My Drive/Google_Colab_Drive/Siamese_Network_and_Triplet_Loss\")"
   ]
  },
  {
   "cell_type": "markdown",
   "metadata": {
    "colab_type": "text",
    "id": "_gYMPZEbud5l"
   },
   "source": [
    "# Create a Siamese Network with Triplet Loss in Keras"
   ]
  },
  {
   "cell_type": "markdown",
   "metadata": {
    "colab_type": "text",
    "id": "fX8CTMDPud5m"
   },
   "source": [
    "# Task 1: Understanding the Approach"
   ]
  },
  {
   "cell_type": "code",
   "execution_count": 3,
   "metadata": {
    "colab": {
     "base_uri": "https://localhost:8080/",
     "height": 34
    },
    "colab_type": "code",
    "id": "eBHjJnWiud5n",
    "outputId": "72cdbdd2-07d9-4eca-f947-d3bec6372580"
   },
   "outputs": [
    {
     "name": "stdout",
     "output_type": "stream",
     "text": [
      "TensorFlow version: 2.3.0\n"
     ]
    }
   ],
   "source": [
    "%matplotlib notebook\n",
    "\n",
    "import tensorflow as tf\n",
    "import matplotlib.pyplot as plt\n",
    "import numpy as np\n",
    "import random\n",
    "\n",
    "from pca_plotter import PCAPlotter\n",
    "\n",
    "print('TensorFlow version:', tf.__version__)"
   ]
  },
  {
   "cell_type": "code",
   "execution_count": 4,
   "metadata": {
    "colab": {
     "base_uri": "https://localhost:8080/",
     "height": 34
    },
    "colab_type": "code",
    "id": "q4iRJx0SvfrG",
    "outputId": "0f38395e-7891-48f4-f2cf-7605e71a007d"
   },
   "outputs": [
    {
     "name": "stdout",
     "output_type": "stream",
     "text": [
      "assets\tpca_plotter.py\t__pycache__  SiameseNetwork_wTripletLoss.ipynb\n"
     ]
    }
   ],
   "source": [
    "!ls"
   ]
  },
  {
   "cell_type": "markdown",
   "metadata": {
    "colab_type": "text",
    "id": "NY-a2_wIud5r"
   },
   "source": [
    "## Understanding the Approach\n",
    "\n",
    "In this notebook I will create a Siamese Network, implement a Triplet Loss function and train the network with custom Triplet Loss function on MNIST dataset. \n",
    "\n",
    "In the process of training, the Siamese Network will learn to produce feature embeddings of different classes from the dataset in a way so that embeddings from different classes will start moving away from each other in the embedding vector space. \n",
    "\n",
    "This is idea used in Face Verification systems. A model is trained to produce embeddings for faces in way that embeddings of 2 images of same person are going to be a lot closer in the embedding vector space compare to embedding vectors of 2 images of 2 different persons. \n",
    "\n",
    "**Image Classification** doesn't scale for this type of problem(Face Verification). \n",
    "\n",
    "The general approach is as follows, \n",
    "All the images goes through a CNN Network(It can be anything, CNN is theoretically robust to work on images and practically just works better on Images) and get a vector representation of each at the end which we call an embedding. \n",
    "f(image_x) => Embedding_x\n",
    "\n",
    "The model should learn parameters in a way, so that if it sees a photo of the same person(positive example) as a reference photo (anchor image) then the embedding of those 2 photos(anchor and positive example) need to be close in embedding vector space. If it is a image of different person (negative example) then the embeddings of 2 photos (anchor and negative example) should be far apart. \n",
    "\n",
    "This appraoch is taken from the popular [FaceNet](https://arxiv.org/abs/1503.03832) paper.\n",
    "\n",
    "We have a CNN model called `EmbeddingModel`:\n",
    "\n",
    "![CNN](./assets/CNN.png)\n",
    "\n",
    "We use three images for each training example:\n",
    "1. `person1_image1.jpg` (Anchor Example, represented below in green)\n",
    "2. `person1_image2.jpg` (Positive Example, in blue)\n",
    "3. `person2_image1.jpg` (Negative Example, in red).\n",
    "\n",
    "![Embeddings](./assets/embeddings.png)\n",
    "\n",
    "\n",
    "## Siamese Network\n",
    "\n",
    "All the three images of an example pass through the model, and we get the three Embeddings: One for the Anchor Example, one for the Positive Example, and one for the Negative Example.\n",
    "\n",
    "![Siamese Network](./assets/siamese.png)\n",
    "\n",
    "The three instances of the `EmbeddingModel` shown above are not different instances. It's the same, shared model instance - i.e. the parameters are shared, and are updated for all the three paths simultaneously."
   ]
  },
  {
   "cell_type": "markdown",
   "metadata": {
    "colab_type": "text",
    "id": "U7ZdbIqEud5s"
   },
   "source": [
    "# Task 2: Importing the Data"
   ]
  },
  {
   "cell_type": "code",
   "execution_count": 5,
   "metadata": {
    "colab": {},
    "colab_type": "code",
    "id": "4knrM6poud5s"
   },
   "outputs": [],
   "source": [
    "(x_train, y_train), (x_test, y_test) = tf.keras.datasets.mnist.load_data()"
   ]
  },
  {
   "cell_type": "code",
   "execution_count": 6,
   "metadata": {
    "colab": {
     "base_uri": "https://localhost:8080/",
     "height": 51
    },
    "colab_type": "code",
    "id": "Yv_eAV9xud5v",
    "outputId": "210782e3-db61-48bd-b3c3-c2701859a08a"
   },
   "outputs": [
    {
     "name": "stdout",
     "output_type": "stream",
     "text": [
      "(60000, 28, 28)\n",
      "(60000,)\n"
     ]
    }
   ],
   "source": [
    "print(x_train.shape)\n",
    "print(y_train.shape)"
   ]
  },
  {
   "cell_type": "markdown",
   "metadata": {
    "colab_type": "text",
    "id": "lgK6XIS697bq"
   },
   "source": [
    "**Unrolling the Xs and (0-1) Normalization**"
   ]
  },
  {
   "cell_type": "code",
   "execution_count": 7,
   "metadata": {
    "colab": {
     "base_uri": "https://localhost:8080/",
     "height": 51
    },
    "colab_type": "code",
    "id": "yY_WXysa93Yc",
    "outputId": "bcb9d12e-aa93-4bb8-e487-70dee3334137"
   },
   "outputs": [
    {
     "name": "stdout",
     "output_type": "stream",
     "text": [
      "(60000, 784)\n",
      "(10000, 784)\n"
     ]
    }
   ],
   "source": [
    "x_train = np.reshape(np.ravel(x_train), (x_train.shape[0], -1))\n",
    "print(x_train.shape)\n",
    "x_test = np.reshape(np.ravel(x_test), (x_test.shape[0], -1))\n",
    "print(x_test.shape)"
   ]
  },
  {
   "cell_type": "code",
   "execution_count": 8,
   "metadata": {
    "colab": {},
    "colab_type": "code",
    "id": "4cjYmumH-xtE"
   },
   "outputs": [],
   "source": [
    "x_train = x_train/255.\n",
    "x_test = x_test/255."
   ]
  },
  {
   "cell_type": "markdown",
   "metadata": {
    "colab_type": "text",
    "id": "2P7pgLq6ud5x"
   },
   "source": [
    "# Task 3: Plotting Examples"
   ]
  },
  {
   "cell_type": "code",
   "execution_count": 9,
   "metadata": {
    "colab": {},
    "colab_type": "code",
    "id": "72buCY1ABA69"
   },
   "outputs": [],
   "source": [
    "%matplotlib inline"
   ]
  },
  {
   "cell_type": "code",
   "execution_count": 10,
   "metadata": {
    "colab": {},
    "colab_type": "code",
    "id": "-8suEj4Fud5x"
   },
   "outputs": [],
   "source": [
    "def plot_triplet(triplet):\n",
    "  '''\n",
    "  triplet ==> List of 3 images (Anchor, Positive, Negative)\n",
    "  '''\n",
    "  plt.figure(figsize=(6, 2))\n",
    "  for i in range(3):\n",
    "    plt.subplot(1, 3, i+1)\n",
    "    plt.imshow(np.reshape(triplet[i], (28, 28)), cmap = 'binary')\n",
    "    plt.xticks([])\n",
    "    plt.yticks([])\n",
    "  plt.show()\n"
   ]
  },
  {
   "cell_type": "code",
   "execution_count": 11,
   "metadata": {
    "colab": {
     "base_uri": "https://localhost:8080/",
     "height": 133
    },
    "colab_type": "code",
    "id": "TnQKjTmWud50",
    "outputId": "34259544-7e58-4d85-db00-8bd0b1b3fbb0"
   },
   "outputs": [
    {
     "data": {
      "image/png": "[encoded data removed]",
      "text/plain": [
       "<Figure size 432x144 with 3 Axes>"
      ]
     },
     "metadata": {
      "tags": []
     },
     "output_type": "display_data"
    }
   ],
   "source": [
    "plot_triplet([x_train[0], x_train[1], x_train[2]])"
   ]
  },
  {
   "cell_type": "markdown",
   "metadata": {
    "colab_type": "text",
    "id": "GFEIUAX7ud53"
   },
   "source": [
    "# Task 4: A Batch of Triplets"
   ]
  },
  {
   "cell_type": "code",
   "execution_count": 12,
   "metadata": {
    "colab": {},
    "colab_type": "code",
    "id": "-F3v27lyud53"
   },
   "outputs": [],
   "source": [
    "def create_batch(batch_size):\n",
    "  '''\n",
    "  batch_size ==> int, size of the batches you want to create\n",
    "  returns a list of [Anchors, Positives, Negatives]\n",
    "  Anchors   => Numpy Array of flatten images\n",
    "  Positives => Numpy Array of flatten images\n",
    "  Negatives => Numpy Array of flatten images\n",
    "  '''\n",
    "  anchors = np.zeros((batch_size, 784), dtype=np.float32)\n",
    "  positives = np.zeros((batch_size, 784), dtype=np.float32)\n",
    "  negatives = np.zeros((batch_size, 784), dtype=np.float32)\n",
    "\n",
    "  for i in range(batch_size):\n",
    "    index = random.randint(0, 60000-1)\n",
    "    anc = x_train[index]\n",
    "    y = y_train[index]\n",
    "\n",
    "    indicies_for_pos = np.squeeze(np.where(y_train==y))\n",
    "    indicies_for_neg = np.squeeze(np.where(y_train!=y))\n",
    "    \n",
    "    pos = x_train[indicies_for_pos[random.randint(0, len(indicies_for_pos)-1)]]\n",
    "    neg = x_train[indicies_for_neg[random.randint(0, len(indicies_for_neg)-1)]]\n",
    "\n",
    "    anchors[i] = anc\n",
    "    positives[i] = pos\n",
    "    negatives[i] = neg\n",
    "\n",
    "  return [anchors, positives, negatives]\n",
    "\n",
    "\n"
   ]
  },
  {
   "cell_type": "code",
   "execution_count": 13,
   "metadata": {
    "colab": {
     "base_uri": "https://localhost:8080/",
     "height": 133
    },
    "colab_type": "code",
    "id": "oSaLdORwud56",
    "outputId": "b335974e-6bc9-481a-c518-4e06dbdf8dc8"
   },
   "outputs": [
    {
     "data": {
      "image/png": "[encoded data removed]",
      "text/plain": [
       "<Figure size 432x144 with 3 Axes>"
      ]
     },
     "metadata": {
      "tags": []
     },
     "output_type": "display_data"
    }
   ],
   "source": [
    "test_triplets = create_batch(1)\n",
    "plot_triplet(test_triplets)"
   ]
  },
  {
   "cell_type": "markdown",
   "metadata": {
    "colab_type": "text",
    "id": "C54lZQxeud59"
   },
   "source": [
    "# Task 5: Embedding Model"
   ]
  },
  {
   "cell_type": "markdown",
   "metadata": {
    "colab_type": "text",
    "id": "nquXRsyFGruW"
   },
   "source": [
    "**The model will take images as input and will return embeddings of the images as output**"
   ]
  },
  {
   "cell_type": "code",
   "execution_count": 14,
   "metadata": {
    "colab": {
     "base_uri": "https://localhost:8080/",
     "height": 221
    },
    "colab_type": "code",
    "id": "HecPNAu_ud5-",
    "outputId": "37f7847e-e5ff-443a-afc1-55aaa382756e"
   },
   "outputs": [
    {
     "name": "stdout",
     "output_type": "stream",
     "text": [
      "Model: \"sequential\"\n",
      "_________________________________________________________________\n",
      "Layer (type)                 Output Shape              Param #   \n",
      "=================================================================\n",
      "dense (Dense)                (None, 64)                50240     \n",
      "_________________________________________________________________\n",
      "dense_1 (Dense)              (None, 64)                4160      \n",
      "=================================================================\n",
      "Total params: 54,400\n",
      "Trainable params: 54,400\n",
      "Non-trainable params: 0\n",
      "_________________________________________________________________\n"
     ]
    }
   ],
   "source": [
    "emb_dim = 64\n",
    "embedding_model = tf.keras.Sequential([\n",
    "    tf.keras.layers.Dense(64, activation='relu', input_shape = (784, )),\n",
    "    tf.keras.layers.Dense(emb_dim, activation='sigmoid')\n",
    "])\n",
    "\n",
    "embedding_model.summary()"
   ]
  },
  {
   "cell_type": "markdown",
   "metadata": {
    "colab_type": "text",
    "id": "LSWem36xIGrX"
   },
   "source": [
    "**Sample output from the model**"
   ]
  },
  {
   "cell_type": "code",
   "execution_count": 15,
   "metadata": {
    "colab": {
     "base_uri": "https://localhost:8080/",
     "height": 204
    },
    "colab_type": "code",
    "id": "Q8ddJ7BWud6A",
    "outputId": "882c220e-4457-4ca4-a6b0-4f246567433a"
   },
   "outputs": [
    {
     "name": "stdout",
     "output_type": "stream",
     "text": [
      "[0.3999828  0.446646   0.45748895 0.526802   0.5986202  0.49448985\n",
      " 0.38178533 0.50752807 0.5364211  0.46162093 0.5350903  0.5745711\n",
      " 0.63686895 0.45205957 0.44741702 0.5351436  0.6101066  0.47040814\n",
      " 0.39065322 0.42490235 0.48322117 0.46493113 0.40219352 0.4675437\n",
      " 0.5683624  0.55844015 0.41356552 0.37000436 0.5918817  0.47014165\n",
      " 0.35841483 0.40749097 0.5592337  0.4650771  0.4935932  0.53710324\n",
      " 0.52066123 0.4441576  0.4481573  0.39109197 0.5194362  0.599539\n",
      " 0.61154544 0.5460963  0.39432895 0.41255188 0.5913576  0.5333147\n",
      " 0.4197106  0.48653957 0.61542994 0.44173682 0.55473715 0.40779015\n",
      " 0.4250753  0.59425193 0.65408903 0.4939644  0.4277034  0.5527666\n",
      " 0.6037471  0.49984705 0.37092125 0.6224467 ]\n"
     ]
    }
   ],
   "source": [
    "example = x_train[0]\n",
    "example_emb = embedding_model.predict(np.expand_dims(example, axis = 0))[0]\n",
    "print(example_emb)"
   ]
  },
  {
   "cell_type": "markdown",
   "metadata": {
    "colab_type": "text",
    "id": "HrBSxZ_3ud6C"
   },
   "source": [
    "# Task 6: Siamese Network\n",
    "**Concatenation of the embeddings [anchor, positive, negative] by column.**"
   ]
  },
  {
   "cell_type": "code",
   "execution_count": 16,
   "metadata": {
    "colab": {
     "base_uri": "https://localhost:8080/",
     "height": 391
    },
    "colab_type": "code",
    "id": "Rmi64I5nud6D",
    "outputId": "23b0b3b4-f2eb-4b1b-fbd0-54ee77527aae"
   },
   "outputs": [
    {
     "name": "stdout",
     "output_type": "stream",
     "text": [
      "Model: \"functional_1\"\n",
      "__________________________________________________________________________________________________\n",
      "Layer (type)                    Output Shape         Param #     Connected to                     \n",
      "==================================================================================================\n",
      "input_1 (InputLayer)            [(None, 784)]        0                                            \n",
      "__________________________________________________________________________________________________\n",
      "input_2 (InputLayer)            [(None, 784)]        0                                            \n",
      "__________________________________________________________________________________________________\n",
      "input_3 (InputLayer)            [(None, 784)]        0                                            \n",
      "__________________________________________________________________________________________________\n",
      "sequential (Sequential)         (None, 64)           54400       input_1[0][0]                    \n",
      "                                                                 input_2[0][0]                    \n",
      "                                                                 input_3[0][0]                    \n",
      "__________________________________________________________________________________________________\n",
      "concatenate (Concatenate)       (None, 192)          0           sequential[0][0]                 \n",
      "                                                                 sequential[1][0]                 \n",
      "                                                                 sequential[2][0]                 \n",
      "==================================================================================================\n",
      "Total params: 54,400\n",
      "Trainable params: 54,400\n",
      "Non-trainable params: 0\n",
      "__________________________________________________________________________________________________\n"
     ]
    }
   ],
   "source": [
    "in_anc = tf.keras.layers.Input(shape=(784, ))\n",
    "in_pos = tf.keras.layers.Input(shape=(784, ))\n",
    "in_neg = tf.keras.layers.Input(shape=(784, ))\n",
    "\n",
    "em_anc = embedding_model(in_anc)\n",
    "em_pos = embedding_model(in_pos)\n",
    "em_neg = embedding_model(in_neg)\n",
    "\n",
    "out = tf.keras.layers.concatenate([em_anc, em_pos, em_neg], axis=1) # Column wise concatenation.\n",
    "\n",
    "siamese_net = tf.keras.models.Model(\n",
    "    inputs  = [in_anc, in_pos, in_neg],\n",
    "    outputs = out\n",
    ")\n",
    "\n",
    "siamese_net.summary()"
   ]
  },
  {
   "cell_type": "markdown",
   "metadata": {
    "colab_type": "text",
    "id": "tyPVkWJdud6H"
   },
   "source": [
    "# Task 7: Triplet Loss\n",
    "\n",
    "A loss function that tries to pull the Embeddings of Anchor and Positive Examples closer, and tries to push the Embeddings of Anchor and Negative Examples away from each other.\n",
    "\n",
    "Root mean square difference between Anchor and Positive examples in a batch of N images is:\n",
    "$\n",
    "\\begin{equation}\n",
    "d_p = \\sqrt{\\frac{\\sum_{i=0}^{N-1}(f(a_i) - f(p_i))^2}{N}}\n",
    "\\end{equation}\n",
    "$\n",
    "\n",
    "Root mean square difference between Anchor and Negative examples in a batch of N images is:\n",
    "$\n",
    "\\begin{equation}\n",
    "d_n = \\sqrt{\\frac{\\sum_{i=0}^{N-1}(f(a_i) - f(n_i))^2}{N}}\n",
    "\\end{equation}\n",
    "$\n",
    "\n",
    "For each example, we want:\n",
    "$\n",
    "\\begin{equation}\n",
    "d_p \\leq d_n\n",
    "\\end{equation}\n",
    "$\n",
    "\n",
    "Therefore,\n",
    "$\n",
    "\\begin{equation}\n",
    "d_p - d_n \\leq 0\n",
    "\\end{equation}\n",
    "$\n",
    "\n",
    "This condition is quite easily satisfied during the training.\n",
    "\n",
    "We will make it non-trivial by adding a margin (alpha):\n",
    "$\n",
    "\\begin{equation}\n",
    "d_p - d_n + \\alpha \\leq 0\n",
    "\\end{equation}\n",
    "$\n",
    "\n",
    "Given the condition above, the Triplet Loss L is defined as:\n",
    "$\n",
    "\\begin{equation}\n",
    "L = max(d_p - d_n + \\alpha, 0)\n",
    "\\end{equation}\n",
    "$"
   ]
  },
  {
   "cell_type": "code",
   "execution_count": 21,
   "metadata": {
    "colab": {},
    "colab_type": "code",
    "id": "d_amVgZFud6I"
   },
   "outputs": [],
   "source": [
    "def triplet_loss(alpha= 0.2, emb_dim=64):\n",
    "  # This encapsulation gives an opportunity  to pass alpha, emb_dim at run time.\n",
    "  def loss(y_true, y_pred): # Even though there is no ground truth here, for a custom loss function this is the signature we have to follow\n",
    "    anc, pos, neg  = y_pred[:, : emb_dim], y_pred[:, emb_dim : 2*emb_dim], y_pred[:, 2*emb_dim : 3*emb_dim]\n",
    "    dp = tf.reduce_mean(tf.square(anc - pos), axis = 1) # reduce_mean is column wise operation\n",
    "    dn = tf.reduce_mean(tf.square(anc - neg), axis = 1) # reduce_mean is column wise operation\n",
    "    loss_value = tf.maximum(dp - dn + alpha, 0.)\n",
    "    return loss_value\n",
    "  return loss # Returning the function"
   ]
  },
  {
   "cell_type": "markdown",
   "metadata": {
    "colab_type": "text",
    "id": "FRkby26Lud6K"
   },
   "source": [
    "# Task 8: Data Generator"
   ]
  },
  {
   "cell_type": "code",
   "execution_count": 22,
   "metadata": {
    "colab": {},
    "colab_type": "code",
    "id": "Id2fBhONud6K"
   },
   "outputs": [],
   "source": [
    "def data_generator(batch_size, emb_dim):\n",
    "  while True:\n",
    "    x = create_batch(batch_size = batch_size)\n",
    "    y = np.zeros((batch_size, 3*emb_dim)) # We need it for the loss function and model.fit()\n",
    "    yield x, y"
   ]
  },
  {
   "cell_type": "markdown",
   "metadata": {
    "colab_type": "text",
    "id": "hURKjMBxud6O"
   },
   "source": [
    "# Task 9: Model Training"
   ]
  },
  {
   "cell_type": "code",
   "execution_count": 23,
   "metadata": {
    "colab": {},
    "colab_type": "code",
    "id": "WtUX5sDUud6O"
   },
   "outputs": [],
   "source": [
    "alpha = 0.2  # Same value as FaceNet paper\n",
    "batch_size = 1024\n",
    "epochs = 10\n",
    "steps_per_epoch = int(60000/batch_size)\n",
    "siamese_net.compile(loss=triplet_loss(alpha=alpha, emb_dim=emb_dim), optimizer='adam')\n",
    "\n",
    "X, Y = x_test[:1000], y_test[:1000]"
   ]
  },
  {
   "cell_type": "code",
   "execution_count": 24,
   "metadata": {
    "colab": {
     "base_uri": "https://localhost:8080/",
     "height": 279
    },
    "colab_type": "code",
    "id": "QJHgAKi5ud6R",
    "outputId": "0c491817-1cb3-4229-d01c-0a3682ebd431"
   },
   "outputs": [
    {
     "data": {
      "image/png": "[encoded data removed]",
      "text/plain": [
       "<Figure size 648x288 with 2 Axes>"
      ]
     },
     "metadata": {
      "needs_background": "light",
      "tags": []
     },
     "output_type": "display_data"
    }
   ],
   "source": [
    "hist = siamese_net.fit(\n",
    "    data_generator(batch_size, emb_dim), \n",
    "    epochs = epochs,\n",
    "    steps_per_epoch = steps_per_epoch,\n",
    "    verbose = False,\n",
    "    callbacks = [PCAPlotter(plt, embedding_model, X, Y)]\n",
    ")"
   ]
  },
  {
   "cell_type": "markdown",
   "metadata": {
    "colab_type": "text",
    "id": "ebrGoi7YV1el"
   },
   "source": [
    "**We can see that the different digits(differentiated by colors have from separte clusters which are relatively far away from their respective own kind**"
   ]
  },
  {
   "cell_type": "code",
   "execution_count": null,
   "metadata": {
    "colab": {},
    "colab_type": "code",
    "id": "8xXyZhHlVzKM"
   },
   "outputs": [],
   "source": []
  }
 ],
 "metadata": {
  "anaconda-cloud": {},
  "colab": {
   "collapsed_sections": [],
   "name": "SiameseNetwork_wTripletLoss.ipynb",
   "provenance": []
  },
  "kernelspec": {
   "display_name": "Python 3",
   "language": "python",
   "name": "python3"
  },
  "language_info": {
   "codemirror_mode": {
    "name": "ipython",
    "version": 3
   },
   "file_extension": ".py",
   "mimetype": "text/x-python",
   "name": "python",
   "nbconvert_exporter": "python",
   "pygments_lexer": "ipython3",
   "version": "3.6.9"
  }
 },
 "nbformat": 4,
 "nbformat_minor": 1
}
